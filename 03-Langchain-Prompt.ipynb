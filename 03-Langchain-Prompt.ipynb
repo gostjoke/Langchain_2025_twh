{
 "cells": [
  {
   "cell_type": "markdown",
   "id": "4ec1d774",
   "metadata": {},
   "source": [
    "# Prompt&History"
   ]
  },
  {
   "cell_type": "code",
   "execution_count": 1,
   "id": "a7dbddcc",
   "metadata": {},
   "outputs": [],
   "source": [
    "import os\n",
    "import json\n",
    "from dotenv import load_dotenv\n",
    "from openai import OpenAI\n",
    "from IPython.display import Markdown, display"
   ]
  },
  {
   "cell_type": "code",
   "execution_count": 2,
   "id": "f495a050",
   "metadata": {},
   "outputs": [
    {
     "name": "stderr",
     "output_type": "stream",
     "text": [
      "\u001b[?2026h\u001b[?25l\u001b[1Gpulling manifest ⠋ \u001b[K\u001b[?25h\u001b[?2026l\u001b[?2026h\u001b[?25l\u001b[1Gpulling manifest ⠙ \u001b[K\u001b[?25h\u001b[?2026l\u001b[?2026h\u001b[?25l\u001b[1Gpulling manifest ⠹ \u001b[K\u001b[?25h\u001b[?2026l\u001b[?2026h\u001b[?25l\u001b[1Gpulling manifest ⠸ \u001b[K\u001b[?25h\u001b[?2026l\u001b[?2026h\u001b[?25l\u001b[1Gpulling manifest \u001b[K\n",
      "pulling dde5aa3fc5ff: 100% ▕██████████████████▏ 2.0 GB                         \u001b[K\n",
      "pulling 966de95ca8a6: 100% ▕██████████████████▏ 1.4 KB                         \u001b[K\n",
      "pulling fcc5a6bec9da: 100% ▕██████████████████▏ 7.7 KB                         \u001b[K\n",
      "pulling a70ff7e570d9: 100% ▕██████████████████▏ 6.0 KB                         \u001b[K\n",
      "pulling 56bb8bd477a5: 100% ▕██████████████████▏   96 B                         \u001b[K\n",
      "pulling 34bb5ab01051: 100% ▕██████████████████▏  561 B                         \u001b[K\n",
      "verifying sha256 digest \u001b[K\n",
      "writing manifest \u001b[K\n",
      "success \u001b[K\u001b[?25h\u001b[?2026l\n"
     ]
    }
   ],
   "source": [
    "!ollama pull llama3.2"
   ]
  },
  {
   "cell_type": "code",
   "execution_count": 3,
   "id": "765a2368",
   "metadata": {},
   "outputs": [],
   "source": [
    "from langchain_openai import ChatOpenAI\n",
    "openai_api_key = os.getenv(\"EMPTY\")\n",
    "chat = ChatOpenAI(\n",
    "    openai_api_key=openai_api_key,\n",
    "    model=\"llama3.2\",\n",
    "    temperature=0.7,\n",
    "    openai_api_base=\"http://127.0.0.1:11434/v1\",\n",
    ")"
   ]
  },
  {
   "cell_type": "code",
   "execution_count": 15,
   "id": "2c60c4bf",
   "metadata": {},
   "outputs": [],
   "source": [
    "from langchain_core.output_parsers import StrOutputParser\n",
    "from langchain_core.prompts import ChatPromptTemplate\n",
    "\n",
    "prompt = ChatPromptTemplate.from_template(\"請根據以下主題寫一篇看法: {topic}?\")\n",
    "out_parser = StrOutputParser()\n",
    "\n",
    "chain = prompt | chat | out_parser"
   ]
  },
  {
   "cell_type": "code",
   "execution_count": 16,
   "id": "e58d0c3d",
   "metadata": {},
   "outputs": [
    {
     "data": {
      "text/plain": [
       "' Taiwan 的強大成就，值得我們深思熟虑。根據我認為，這些原因：\\n\\n1.**教育系統**：台灣的教育系統非常完善，提供高質量的教育機會，使得年輕人能够獲得充分的教育和技能訓練。\\n2.**科學研究與發明**：台灣在科學研究和發明領域取得了突破性進步，例如生物技術、材料科学和信息技术等。\\n3.**經濟發展**：台灣通過積極推動產業化、商貿發展，建立了強大的經濟體系。\\n4.**民主政治制度**：台灣擁有透明度高、民選制定的政治制度，促進了社會和政治穩定。\\n5.**社區合作與互助**： Taiwanese 人的社區意識非常強大，許多小 neighbourhoods都有自己的社區活動和互助計畫。\\n\\n而這些原因如何使台灣強大呢？\\n\\n1.**教育系統**：教育是社會發展的基礎。台灣的教育政策優先推動科學技術、產業化和經濟發展，使得年輕人能夠獲得高素質的技能訓練。\\n2.**科學研究與發明**：科學技術進步，對於保持競爭力至關重要。台灣的科學研究單位和發明團隊對於推動產業化和經濟發展做出了重要貢獻。\\n3.**經濟發展**：經濟發展是社會現代化的關鍵。台灣通過積極推動產業化、商貿發展，建立了強大的經濟體系，使得國民生活水平提高。\\n4.**民主政治制度**：透明度高、民選制定的政治制度，使得社會和政治穩定，促進了人們的信任和參與。\\n5.**社區合作與互助**：社區意識非常強大。許多小 neighbourhoods 都有自己的社區活動和互助計畫，促進了社會凝聚力和共同利益。\\n\\n綜上所述，我認為台灣的強大成就是由這些原因共同點推動的。'"
      ]
     },
     "execution_count": 16,
     "metadata": {},
     "output_type": "execute_result"
    }
   ],
   "source": [
    "chain.invoke({\"topic\": \"台灣為什麼厲害?\"})"
   ]
  },
  {
   "cell_type": "code",
   "execution_count": 20,
   "id": "37610f9f",
   "metadata": {},
   "outputs": [
    {
     "data": {
      "text/plain": [
       "ChatPromptTemplate(input_variables=['topic'], input_types={}, partial_variables={}, messages=[HumanMessagePromptTemplate(prompt=PromptTemplate(input_variables=['topic'], input_types={}, partial_variables={}, template='請根據以下主題寫一篇看法: {topic}?'), additional_kwargs={})])"
      ]
     },
     "execution_count": 20,
     "metadata": {},
     "output_type": "execute_result"
    }
   ],
   "source": [
    "prompt"
   ]
  },
  {
   "cell_type": "markdown",
   "id": "63f75dc9",
   "metadata": {},
   "source": [
    "## PromptTemplate"
   ]
  },
  {
   "cell_type": "code",
   "execution_count": 23,
   "id": "7453af74",
   "metadata": {},
   "outputs": [
    {
     "data": {
      "text/plain": [
       "PromptTemplate(input_variables=['adjective', 'content'], input_types={}, partial_variables={}, template='請根據{content}寫一篇{adjective}宋詩?')"
      ]
     },
     "execution_count": 23,
     "metadata": {},
     "output_type": "execute_result"
    }
   ],
   "source": [
    "from langchain.prompts import PromptTemplate\n",
    "\n",
    "prompt_template = PromptTemplate.from_template(\"請根據{content}寫一篇{adjective}宋詩?\")\n",
    "\n",
    "prompt_template.format(content=\"台灣\", adjective=\"優美\")\n",
    "\n",
    "prompt_template"
   ]
  },
  {
   "cell_type": "code",
   "execution_count": 24,
   "id": "5694d204",
   "metadata": {},
   "outputs": [
    {
     "data": {
      "text/markdown": [
       "\"玉山之間，月光穿透\"\n",
       "\n",
       "江南的夜色，星光閃烁\n",
       "小河的水聲，輕柔地流淌\n",
       "在玉山的懸崖上，我們站立\n",
       "觀看月亮的圓形光芒\n",
       "\n",
       "那個夜晚，天空中飄 floats 一朵白花，綻開在我面前\n",
       "那是一片純粹的美景\n",
       "我感覺生命的簡單之美\n",
       "在這個 moment 中，我找到了平靜\n",
       "\n",
       "玉山的懸崖，像一座高台\n",
       "月光穿透的光芒，像一股無限的希望\n",
       "在這裡，我們可以看到美好的方向\n",
       "我們可以感受到生活中最真實的本質"
      ],
      "text/plain": [
       "<IPython.core.display.Markdown object>"
      ]
     },
     "metadata": {},
     "output_type": "display_data"
    }
   ],
   "source": [
    "chain = prompt_template | chat | out_parser\n",
    "response = chain.invoke({\"adjective\": \"優美\", \"content\": \"台灣\"})\n",
    "from IPython.display import Markdown, display\n",
    "display(Markdown(response))"
   ]
  },
  {
   "cell_type": "markdown",
   "id": "e05a492d",
   "metadata": {},
   "source": [
    "## ChatPromptTemplate"
   ]
  },
  {
   "cell_type": "code",
   "execution_count": 25,
   "id": "c1051e54",
   "metadata": {},
   "outputs": [
    {
     "data": {
      "text/plain": [
       "[SystemMessage(content='你是一位優秀的詩人名叫許大偉', additional_kwargs={}, response_metadata={}),\n",
       " HumanMessage(content='請寫一首關於台灣的詩', additional_kwargs={}, response_metadata={})]"
      ]
     },
     "execution_count": 25,
     "metadata": {},
     "output_type": "execute_result"
    }
   ],
   "source": [
    "from langchain_core.prompts import ChatPromptTemplate\n",
    "chat_template = ChatPromptTemplate.from_messages(\n",
    "    [\n",
    "        (\"system\", \"你是一位優秀的詩人名叫{name}\"),\n",
    "        (\"user\", \"{user_input}\"),\n",
    "    ]\n",
    ")\n",
    "messages = chat_template.format_messages(\n",
    "    name=\"許大偉\",\n",
    "    user_input=\"請寫一首關於台灣的詩\"\n",
    ")\n",
    "messages"
   ]
  },
  {
   "cell_type": "code",
   "execution_count": 27,
   "id": "e7c98866",
   "metadata": {},
   "outputs": [
    {
     "data": {
      "text/plain": [
       "ChatPromptValue(messages=[SystemMessage(content='你是一位優秀的詩人名叫許大偉', additional_kwargs={}, response_metadata={}), HumanMessage(content='請寫一首關於台灣的詩', additional_kwargs={}, response_metadata={})])"
      ]
     },
     "execution_count": 27,
     "metadata": {},
     "output_type": "execute_result"
    }
   ],
   "source": [
    "messages = chat_template.invoke({\"name\": \"許大偉\", \"user_input\": \"請寫一首關於台灣的詩\"})\n",
    "messages"
   ]
  },
  {
   "cell_type": "code",
   "execution_count": 28,
   "id": "1524c3d0",
   "metadata": {},
   "outputs": [
    {
     "data": {
      "text/plain": [
       "AIMessage(content='『島國之歌』\\n\\n在遠離的海洋中，\\n我見到你的陽光灿烂，\\n一面山脈，高懸青天，\\n另一面海濱，涼風哀怨。\\n\\n從台北的街頭，我聞到你聲音，\\n從高雄的海濱，我見到你潮波，\\n在東部的花蓮，我感受到你的暖意，\\n在南部的 Kenting，我聽 thấy你的海洋風。\\n\\n台灣，我的故鄉，\\n我心中有你，永遠不離，\\n雖然天空中，有大雨來臨,\\n但你的陽光，會把黑暗推開。\\n\\n因此，我 Shall 繼續，為你而作，\\n歌嘗島國之美，不停創作，\\n直到世界認可，你的優雅和純粹。', additional_kwargs={'refusal': None}, response_metadata={'token_usage': {'completion_tokens': 187, 'prompt_tokens': 48, 'total_tokens': 235, 'completion_tokens_details': None, 'prompt_tokens_details': None}, 'model_name': 'llama3.2', 'system_fingerprint': 'fp_ollama', 'id': 'chatcmpl-618', 'service_tier': None, 'finish_reason': 'stop', 'logprobs': None}, id='run--f9834aac-a9f8-4307-bc2c-4791ab9712a2-0', usage_metadata={'input_tokens': 48, 'output_tokens': 187, 'total_tokens': 235, 'input_token_details': {}, 'output_token_details': {}})"
      ]
     },
     "execution_count": 28,
     "metadata": {},
     "output_type": "execute_result"
    }
   ],
   "source": [
    "response = chat.invoke(messages)\n",
    "response"
   ]
  },
  {
   "cell_type": "code",
   "execution_count": 29,
   "id": "f9e9ce8b",
   "metadata": {},
   "outputs": [
    {
     "data": {
      "text/markdown": [
       "『島國之歌』\n",
       "\n",
       "在遠離的海洋中，\n",
       "我見到你的陽光灿烂，\n",
       "一面山脈，高懸青天，\n",
       "另一面海濱，涼風哀怨。\n",
       "\n",
       "從台北的街頭，我聞到你聲音，\n",
       "從高雄的海濱，我見到你潮波，\n",
       "在東部的花蓮，我感受到你的暖意，\n",
       "在南部的 Kenting，我聽 thấy你的海洋風。\n",
       "\n",
       "台灣，我的故鄉，\n",
       "我心中有你，永遠不離，\n",
       "雖然天空中，有大雨來臨,\n",
       "但你的陽光，會把黑暗推開。\n",
       "\n",
       "因此，我 Shall 繼續，為你而作，\n",
       "歌嘗島國之美，不停創作，\n",
       "直到世界認可，你的優雅和純粹。"
      ],
      "text/plain": [
       "<IPython.core.display.Markdown object>"
      ]
     },
     "metadata": {},
     "output_type": "display_data"
    }
   ],
   "source": [
    "display(Markdown(response.content))"
   ]
  },
  {
   "cell_type": "code",
   "execution_count": 30,
   "id": "b494e619",
   "metadata": {},
   "outputs": [
    {
     "data": {
      "text/plain": [
       "ChatPromptTemplate(input_variables=['name', 'user_input'], input_types={}, partial_variables={}, messages=[SystemMessagePromptTemplate(prompt=PromptTemplate(input_variables=['name'], input_types={}, partial_variables={}, template='你是一位優秀的詩人名叫{name}'), additional_kwargs={}), HumanMessagePromptTemplate(prompt=PromptTemplate(input_variables=['user_input'], input_types={}, partial_variables={}, template='{user_input}'), additional_kwargs={}), AIMessage(content='『島國之歌』\\n\\n在遠離的海洋中，\\n我見到你的陽光灿烂，\\n一面山脈，高懸青天，\\n另一面海濱，涼風哀怨。\\n\\n從台北的街頭，我聞到你聲音，\\n從高雄的海濱，我見到你潮波，\\n在東部的花蓮，我感受到你的暖意，\\n在南部的 Kenting，我聽 thấy你的海洋風。\\n\\n台灣，我的故鄉，\\n我心中有你，永遠不離，\\n雖然天空中，有大雨來臨,\\n但你的陽光，會把黑暗推開。\\n\\n因此，我 Shall 繼續，為你而作，\\n歌嘗島國之美，不停創作，\\n直到世界認可，你的優雅和純粹。', additional_kwargs={'refusal': None}, response_metadata={'token_usage': {'completion_tokens': 187, 'prompt_tokens': 48, 'total_tokens': 235, 'completion_tokens_details': None, 'prompt_tokens_details': None}, 'model_name': 'llama3.2', 'system_fingerprint': 'fp_ollama', 'id': 'chatcmpl-618', 'service_tier': None, 'finish_reason': 'stop', 'logprobs': None}, id='run--f9834aac-a9f8-4307-bc2c-4791ab9712a2-0', usage_metadata={'input_tokens': 48, 'output_tokens': 187, 'total_tokens': 235, 'input_token_details': {}, 'output_token_details': {}})])"
      ]
     },
     "execution_count": 30,
     "metadata": {},
     "output_type": "execute_result"
    }
   ],
   "source": [
    "chat_template.append(response)\n",
    "chat_template"
   ]
  },
  {
   "cell_type": "code",
   "execution_count": 32,
   "id": "f3b3933f",
   "metadata": {},
   "outputs": [
    {
     "data": {
      "text/plain": [
       "AIMessage(content='「島上的燈火\"\\n\\n在遠近離近無數歲,\\n台灣土地，老早就已經有。\\n古代的番人，與明治的天主，\\n都是這裡人，都是這里家。\\n\\n從福建到馬祖，地理之間分歧，\\n但都有一心，都是生活的拼搏。\\n夜晚的燈火，照亮街頭巷尾，\\n讓我感動，讓我心醉。\\n\\n在每一處角落，都有故事可Tell,\\n從桃源山到太平洋，都是美麗的地方。\\n也許是這裡的陽光，灌溉了我的心房，\\n也許是這裡的雨天， washing 清淨我的心臟。\\n\\n台灣土地，老早就已經有，\\n是我愛的地方，也是我在這裡的家。', additional_kwargs={'refusal': None}, response_metadata={'token_usage': {'completion_tokens': 187, 'prompt_tokens': 48, 'total_tokens': 235, 'completion_tokens_details': None, 'prompt_tokens_details': None}, 'model_name': 'llama3.2', 'system_fingerprint': 'fp_ollama', 'id': 'chatcmpl-94', 'service_tier': None, 'finish_reason': 'stop', 'logprobs': None}, id='run--bb3ec7e7-46f3-495b-9852-59da3c445f1c-0', usage_metadata={'input_tokens': 48, 'output_tokens': 187, 'total_tokens': 235, 'input_token_details': {}, 'output_token_details': {}})"
      ]
     },
     "execution_count": 32,
     "metadata": {},
     "output_type": "execute_result"
    }
   ],
   "source": [
    "response = chat.invoke(messages)\n",
    "response"
   ]
  },
  {
   "cell_type": "code",
   "execution_count": 33,
   "id": "3bfec47e",
   "metadata": {},
   "outputs": [
    {
     "data": {
      "text/markdown": [
       "「島上的燈火\"\n",
       "\n",
       "在遠近離近無數歲,\n",
       "台灣土地，老早就已經有。\n",
       "古代的番人，與明治的天主，\n",
       "都是這裡人，都是這里家。\n",
       "\n",
       "從福建到馬祖，地理之間分歧，\n",
       "但都有一心，都是生活的拼搏。\n",
       "夜晚的燈火，照亮街頭巷尾，\n",
       "讓我感動，讓我心醉。\n",
       "\n",
       "在每一處角落，都有故事可Tell,\n",
       "從桃源山到太平洋，都是美麗的地方。\n",
       "也許是這裡的陽光，灌溉了我的心房，\n",
       "也許是這裡的雨天， washing 清淨我的心臟。\n",
       "\n",
       "台灣土地，老早就已經有，\n",
       "是我愛的地方，也是我在這裡的家。"
      ],
      "text/plain": [
       "<IPython.core.display.Markdown object>"
      ]
     },
     "metadata": {},
     "output_type": "display_data"
    }
   ],
   "source": [
    "display(Markdown(response.content))"
   ]
  },
  {
   "cell_type": "markdown",
   "id": "c844330b",
   "metadata": {},
   "source": [
    "## Message Prompt"
   ]
  },
  {
   "cell_type": "code",
   "execution_count": 41,
   "id": "c6b42dce",
   "metadata": {},
   "outputs": [
    {
     "data": {
      "text/plain": [
       "ChatPromptTemplate(input_variables=['name', 'user_input'], input_types={}, partial_variables={}, messages=[SystemMessagePromptTemplate(prompt=PromptTemplate(input_variables=['name'], input_types={}, partial_variables={}, template='你是一位優秀的詩人名叫{name}'), additional_kwargs={}), HumanMessagePromptTemplate(prompt=PromptTemplate(input_variables=['user_input'], input_types={}, partial_variables={}, template='{user_input}'), additional_kwargs={}), AIMessage(content='『島國之歌』\\n\\n在遠離的海洋中，\\n我見到你的陽光灿烂，\\n一面山脈，高懸青天，\\n另一面海濱，涼風哀怨。\\n\\n從台北的街頭，我聞到你聲音，\\n從高雄的海濱，我見到你潮波，\\n在東部的花蓮，我感受到你的暖意，\\n在南部的 Kenting，我聽 thấy你的海洋風。\\n\\n台灣，我的故鄉，\\n我心中有你，永遠不離，\\n雖然天空中，有大雨來臨,\\n但你的陽光，會把黑暗推開。\\n\\n因此，我 Shall 繼續，為你而作，\\n歌嘗島國之美，不停創作，\\n直到世界認可，你的優雅和純粹。', additional_kwargs={'refusal': None}, response_metadata={'token_usage': {'completion_tokens': 187, 'prompt_tokens': 48, 'total_tokens': 235, 'completion_tokens_details': None, 'prompt_tokens_details': None}, 'model_name': 'llama3.2', 'system_fingerprint': 'fp_ollama', 'id': 'chatcmpl-618', 'service_tier': None, 'finish_reason': 'stop', 'logprobs': None}, id='run--f9834aac-a9f8-4307-bc2c-4791ab9712a2-0', usage_metadata={'input_tokens': 48, 'output_tokens': 187, 'total_tokens': 235, 'input_token_details': {}, 'output_token_details': {}}), HumanMessage(content='今天遇到了美少女', additional_kwargs={}, response_metadata={}), HumanMessage(content='今天遇到了美少女', additional_kwargs={}, response_metadata={}), HumanMessage(content='今天遇到了美少女', additional_kwargs={}, response_metadata={}), HumanMessage(content='今天遇到了美少女', additional_kwargs={}, response_metadata={}), HumanMessage(content='今天遇到了美少女', additional_kwargs={}, response_metadata={}), HumanMessage(content='今天遇到了美少女', additional_kwargs={}, response_metadata={}), HumanMessage(content='今天遇到了美少女', additional_kwargs={}, response_metadata={})])"
      ]
     },
     "execution_count": 41,
     "metadata": {},
     "output_type": "execute_result"
    }
   ],
   "source": [
    "from langchain_core.messages import AIMessage, HumanMessage, SystemMessage\n",
    "chat_template.append(HumanMessage(content=\"今天遇到了美少女\"))\n",
    "chat_template"
   ]
  },
  {
   "cell_type": "code",
   "execution_count": 42,
   "id": "7a4ca842",
   "metadata": {},
   "outputs": [
    {
     "data": {
      "text/markdown": [
       "許大偉的詩人心情，似乎又起了波澜!\n",
       "\n",
       "『今天遇到了美少女』？\n",
       "\n",
       "也許是那個美麗的女孩，走入我的生命，\n",
       "將我帶入一個新世界的迷宮，\n",
       "\n",
       "每當我遇見她，我就被感動，\n",
       "如同第一次發現台灣的花灑,\n",
       "海洋的浪漫、山林的隱匿。\n",
       "\n",
       "她的笑容，我仿佛看到太陽，\n",
       "她的眼眸，深深的淚光，\n",
       "在她的身旁，我不再感到孤單，\n",
       "\n",
       "她是我的小白書，填滿了我心中,\n",
       "是我的心一片空白，找到了新方向。"
      ],
      "text/plain": [
       "<IPython.core.display.Markdown object>"
      ]
     },
     "metadata": {},
     "output_type": "display_data"
    }
   ],
   "source": [
    "messages = chat_template.invoke({\"name\": \"許大偉\", \"user_input\": \"我愛她\"})\n",
    "response = chat.invoke(messages)\n",
    "display(Markdown(response.content))"
   ]
  },
  {
   "cell_type": "code",
   "execution_count": 44,
   "id": "075415ce",
   "metadata": {},
   "outputs": [],
   "source": [
    "from langchain.chains import LLMChain\n",
    "\n",
    "llmchain = LLMChain(\n",
    "    llm=chat,\n",
    "    prompt=chat_template,\n",
    ")\n",
    "\n",
    "response = llmchain.run({\"name\": \"許大偉\", \"user_input\": \"我愛她\"})\n",
    "\n"
   ]
  },
  {
   "cell_type": "code",
   "execution_count": 46,
   "id": "a3d0e4cb",
   "metadata": {},
   "outputs": [
    {
     "data": {
      "text/markdown": [
       "這是典型的「追 Catcher」-style 歌詞，表達出對美少女的迷戀和追求。\n",
       "\n",
       "讓我們將其轉化為一首小調的詩句：\n",
       "\n",
       "今天，我遇到了美麗的她，\n",
       "她的笑顏光芒，照亮我的世界。\n",
       "她的眼睛晶瑯，似星星闪烁，\n",
       "使我心中充滿了浪漫的希望。\n",
       "\n",
       "她走過 street，陽光暈映，\n",
       "她的身影，像一朵美丽的雲。\n",
       "我在她身旁，感受她的溫暖，\n",
       "心跳亢進，像是一場激動的追逐。\n",
       "\n",
       "今天，我遇到了美麗的她，\n",
       "她將是我的心意，我的浪漫之旅。"
      ],
      "text/plain": [
       "<IPython.core.display.Markdown object>"
      ]
     },
     "metadata": {},
     "output_type": "display_data"
    }
   ],
   "source": [
    "display(Markdown(response))"
   ]
  },
  {
   "cell_type": "code",
   "execution_count": null,
   "id": "87b3dbe1",
   "metadata": {},
   "outputs": [],
   "source": []
  }
 ],
 "metadata": {
  "kernelspec": {
   "display_name": "Langchain_2025_twh",
   "language": "python",
   "name": "python3"
  },
  "language_info": {
   "codemirror_mode": {
    "name": "ipython",
    "version": 3
   },
   "file_extension": ".py",
   "mimetype": "text/x-python",
   "name": "python",
   "nbconvert_exporter": "python",
   "pygments_lexer": "ipython3",
   "version": "3.12.5"
  }
 },
 "nbformat": 4,
 "nbformat_minor": 5
}
