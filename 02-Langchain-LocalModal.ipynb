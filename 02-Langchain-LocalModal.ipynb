{
 "cells": [
  {
   "cell_type": "code",
   "execution_count": 1,
   "id": "6bbf025c",
   "metadata": {},
   "outputs": [],
   "source": [
    "import os\n",
    "import json\n",
    "from dotenv import load_dotenv\n",
    "from openai import OpenAI\n",
    "from IPython.display import Markdown, display"
   ]
  },
  {
   "cell_type": "markdown",
   "id": "c1bc5dae",
   "metadata": {},
   "source": [
    "bash -> ollama list"
   ]
  },
  {
   "cell_type": "code",
   "execution_count": 2,
   "id": "cbb83aa5",
   "metadata": {},
   "outputs": [
    {
     "name": "stderr",
     "output_type": "stream",
     "text": [
      "\u001b[?25lpulling manifest ⠙ \u001b[?25h\u001b[?25l\u001b[2K\u001b[1Gpulling manifest ⠹ \u001b[?25h\u001b[?25l\u001b[2K\u001b[1Gpulling manifest ⠹ \u001b[?25h\u001b[?25l\u001b[2K\u001b[1Gpulling manifest ⠼ \u001b[?25h\u001b[?25l\u001b[2K\u001b[1Gpulling manifest ⠴ \u001b[?25h\u001b[?25l\u001b[2K\u001b[1Gpulling manifest \n",
      "pulling dde5aa3fc5ff... 100% ▕████████████████▏ 2.0 GB                         \n",
      "pulling 966de95ca8a6... 100% ▕████████████████▏ 1.4 KB                         \n",
      "pulling fcc5a6bec9da... 100% ▕████████████████▏ 7.7 KB                         \n",
      "pulling a70ff7e570d9... 100% ▕████████████████▏ 6.0 KB                         \n",
      "pulling 56bb8bd477a5... 100% ▕████████████████▏   96 B                         \n",
      "pulling 34bb5ab01051... 100% ▕████████████████▏  561 B                         \n",
      "verifying sha256 digest \n",
      "writing manifest \n",
      "success \u001b[?25h\n"
     ]
    }
   ],
   "source": [
    "!ollama pull llama3.2"
   ]
  },
  {
   "cell_type": "code",
   "execution_count": null,
   "id": "ebf3d569",
   "metadata": {},
   "outputs": [],
   "source": [
    "messages = [\n",
    "    {\"role\": \"user\", \"content\": \"你好，請介紹你是誰\"}\n",
    "]"
   ]
  },
  {
   "cell_type": "code",
   "execution_count": 7,
   "id": "ad5f0d0f",
   "metadata": {},
   "outputs": [
    {
     "data": {
      "text/markdown": [
       " Xiao Ming ！我是 Xiaobai的AI助手和教育器！\n",
       "\n",
       " 我是由人工智能技術組成的一個程式化工具，用於幫助使用者學習、體습和探索知識。我的主要功能包括：\n",
       "\n",
       "1. **回答問題**： giúp 使用者找到答案，從提供給定的資訊開始。\n",
       "2.  **教學**： 透過一系列問題和教科書的章節來教導不同的題材。\n",
       "3.  **體檢**： Help使用者檢查 own的 知識。\n",
       "\n",
       "我能夠幫助您學習任何你想什麼東西的主題！只要問我任何問題，我都會努力給你一個正確、清晰和有用的答案！\n",
       "\n",
       "您想要開始學習什麼主題？"
      ],
      "text/plain": [
       "<IPython.core.display.Markdown object>"
      ]
     },
     "metadata": {},
     "output_type": "display_data"
    }
   ],
   "source": [
    "ollama = OpenAI(base_url='http://localhost:11434/v1', api_key='ollama')\n",
    "model_name = \"llama3.2\"\n",
    "\n",
    "response = ollama.chat.completions.create(model=model_name, messages=messages)\n",
    "answer = response.choices[0].message.content\n",
    "\n",
    "display(Markdown(answer))\n"
   ]
  },
  {
   "cell_type": "code",
   "execution_count": 3,
   "id": "db11ef7a",
   "metadata": {},
   "outputs": [],
   "source": [
    "def ChatLLM(input_text):\n",
    "    messages = [\n",
    "        {\"role\": \"user\", \"content\": input_text}\n",
    "    ]\n",
    "    ollama = OpenAI(base_url='http://localhost:11434/v1', api_key='ollama')\n",
    "    model_name = \"llama3.2\"\n",
    "\n",
    "    response = ollama.chat.completions.create(model=model_name, messages=messages)\n",
    "    answer = response.choices[0].message.content\n",
    "\n",
    "    display(Markdown(answer))"
   ]
  },
  {
   "cell_type": "code",
   "execution_count": 4,
   "id": "b62d8a75",
   "metadata": {},
   "outputs": [
    {
     "data": {
      "text/markdown": [
       "狗仔隊（Guo Bai Duì）是一個 Taiwanese電視台的節目，由於與「狗仔」，即狗頭，綁定名字而得名。 \n",
       "\n",
       " Doggy team有多名員連續10年多無一失席的記者，在《狗仔隊》獲得許多獎項。\n",
       "\n",
       " 2019年開始，Doggy Team在中視，台視和其他電視台每周都有不同節目，並且在2020年開始主動播出自己的頻道。"
      ],
      "text/plain": [
       "<IPython.core.display.Markdown object>"
      ]
     },
     "metadata": {},
     "output_type": "display_data"
    }
   ],
   "source": [
    "ChatLLM(\"甚麼是狗仔隊?\")   "
   ]
  }
 ],
 "metadata": {
  "kernelspec": {
   "display_name": "Langchain_2025_twh",
   "language": "python",
   "name": "python3"
  },
  "language_info": {
   "codemirror_mode": {
    "name": "ipython",
    "version": 3
   },
   "file_extension": ".py",
   "mimetype": "text/x-python",
   "name": "python",
   "nbconvert_exporter": "python",
   "pygments_lexer": "ipython3",
   "version": "3.12.5"
  }
 },
 "nbformat": 4,
 "nbformat_minor": 5
}
