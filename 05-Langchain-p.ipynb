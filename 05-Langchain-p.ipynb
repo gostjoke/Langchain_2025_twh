{
 "cells": [
  {
   "cell_type": "markdown",
   "id": "368be341",
   "metadata": {},
   "source": [
    "# 05 LangChain"
   ]
  },
  {
   "cell_type": "code",
   "execution_count": null,
   "id": "0e7eb570",
   "metadata": {},
   "outputs": [],
   "source": []
  }
 ],
 "metadata": {
  "language_info": {
   "name": "python"
  }
 },
 "nbformat": 4,
 "nbformat_minor": 5
}
