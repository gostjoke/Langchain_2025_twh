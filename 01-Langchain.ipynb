{
 "cells": [
  {
   "cell_type": "markdown",
   "id": "bada9d80",
   "metadata": {},
   "source": [
    "# 01 LangChain Introduction"
   ]
  },
  {
   "cell_type": "markdown",
   "id": "353fdce3",
   "metadata": {},
   "source": [
    "## Basic Template and output"
   ]
  },
  {
   "cell_type": "code",
   "execution_count": null,
   "id": "dc9143c7",
   "metadata": {},
   "outputs": [],
   "source": [
    "from langchain_openai import ChatOpenAI\n",
    "from IPython.display import Markdown, display\n",
    "import os\n",
    "openai_api_key = os.getenv(\"OPENAI_API_KEY\")\n",
    "llm = ChatOpenAI(\n",
    "    model=\"gpt-4o\",\n",
    "    temperature=0.0,\n",
    "    openai_api_key=openai_api_key,\n",
    ")"
   ]
  },
  {
   "cell_type": "code",
   "execution_count": 22,
   "id": "260945c0",
   "metadata": {},
   "outputs": [],
   "source": [
    "## 字符串輸出解析器, json 解析器等\n",
    "from langchain_core.output_parsers import StrOutputParser # This is the correct import for StrOutputParser\n",
    "from langchain_core.prompts import ChatPromptTemplate, MessagesPlaceholder\n",
    "\n",
    "\n",
    "# prompt = ChatPromptTemplate.from_template(\"Please write a short story about {topic}.\")\n",
    "prompt = ChatPromptTemplate.from_template(\"Please return a Markdown-formatted story about {topic}.\\nUse headers, bullet points, and bold text.\")\n",
    "output_parser = StrOutputParser()\n",
    "\n",
    "\n",
    "chain = prompt | llm | output_parser\n",
    "\n"
   ]
  },
  {
   "cell_type": "code",
   "execution_count": 23,
   "id": "209b18ce",
   "metadata": {},
   "outputs": [],
   "source": [
    "prompt_value = chain.invoke({\"topic\": \"a brave knight and a dragon\"})\n",
    "response = (prompt_value)"
   ]
  },
  {
   "cell_type": "markdown",
   "id": "ea7a6bba",
   "metadata": {},
   "source": [
    "### Flow:\n",
    "dict -> PromptTemplate -> PromptValue -> ChatModel -> ChatMessage -> StrOutputPraser -> string -> Result"
   ]
  },
  {
   "cell_type": "code",
   "execution_count": 24,
   "id": "b1f2be7c",
   "metadata": {},
   "outputs": [
    {
     "data": {
      "text/markdown": [
       "# The Tale of Sir Cedric and the Emerald Dragon\n",
       "\n",
       "## Introduction\n",
       "\n",
       "In the heart of the medieval kingdom of Eldoria, a **brave knight** named Sir Cedric embarked on a perilous quest to confront the fearsome Emerald Dragon. This legendary creature had been terrorizing the countryside, and only a hero of unmatched courage could hope to defeat it.\n",
       "\n",
       "## The Quest Begins\n",
       "\n",
       "- **Sir Cedric**, renowned for his valor and skill in battle, was chosen by the king to face the dragon.\n",
       "- Armed with his **enchanted sword** and clad in shimmering armor, he set forth from the castle.\n",
       "- The journey to the dragon's lair was fraught with danger, including:\n",
       "  - Treacherous mountain paths\n",
       "  - Dark, enchanted forests\n",
       "  - Fierce storms that tested his resolve\n",
       "\n",
       "## The Encounter\n",
       "\n",
       "Upon reaching the dragon's lair, Sir Cedric was met with a sight both awe-inspiring and terrifying:\n",
       "\n",
       "- The **Emerald Dragon** was a magnificent beast, its scales shimmering like precious gems.\n",
       "- Its eyes glowed with an ancient intelligence, and its roar echoed through the mountains.\n",
       "\n",
       "### The Battle\n",
       "\n",
       "- Sir Cedric approached with caution, his heart pounding but his spirit unyielding.\n",
       "- The dragon unleashed a torrent of flames, but the knight's **enchanted shield** protected him.\n",
       "- With a swift and daring maneuver, Sir Cedric struck the dragon's vulnerable underbelly.\n",
       "\n",
       "## The Victory\n",
       "\n",
       "- The dragon, defeated, let out a final, thunderous roar before collapsing.\n",
       "- Sir Cedric emerged victorious, his name forever etched in the annals of Eldoria's history.\n",
       "\n",
       "## Conclusion\n",
       "\n",
       "The kingdom celebrated Sir Cedric's triumph with a grand feast, honoring his bravery and dedication. The once-feared Emerald Dragon was no more, and peace returned to the land.\n",
       "\n",
       "**Sir Cedric**, the hero of Eldoria, became a legend, inspiring future generations to face their fears with courage and determination."
      ],
      "text/plain": [
       "<IPython.core.display.Markdown object>"
      ]
     },
     "metadata": {},
     "output_type": "display_data"
    }
   ],
   "source": [
    "from IPython.display import Markdown, display\n",
    "\n",
    "display(Markdown(prompt_value))\n"
   ]
  },
  {
   "cell_type": "markdown",
   "id": "c8f0cf85",
   "metadata": {},
   "source": [
    "### Stream flow"
   ]
  },
  {
   "cell_type": "code",
   "execution_count": 26,
   "id": "a0fa149b",
   "metadata": {},
   "outputs": [
    {
     "data": {
      "text/html": [
       "<pre style=\"white-space:pre;overflow-x:auto;line-height:normal;font-family:Menlo,'DejaVu Sans Mono',consolas,'Courier New',monospace\"># The Tale of Max: The Dog with a Human Brain\n",
       "\n",
       "## Introduction\n",
       "\n",
       "In a small, bustling town, nestled between rolling hills and lush forests, there lived a dog named Max. But Max was\n",
       "no ordinary dog. Due to a mysterious scientific experiment gone awry, Max possessed the **brain of a human**. This \n",
       "is his story.\n",
       "\n",
       "## The Transformation\n",
       "\n",
       "### The Experiment\n",
       "\n",
       "- Conducted by Dr. Evelyn Carter, a renowned neuroscientist.\n",
       "- Aimed to explore the potential of cross-species brain transplants.\n",
       "- Max, a golden retriever, was chosen for his gentle nature and intelligence.\n",
       "\n",
       "### The Unexpected Outcome\n",
       "\n",
       "- The experiment was intended to be temporary.\n",
       "- A freak electrical storm caused a surge in the lab's power grid.\n",
       "- The result: Max's brain permanently fused with human consciousness.\n",
       "\n",
       "## Life as a Human-Dog\n",
       "\n",
       "### Newfound Abilities\n",
       "\n",
       "- **Communication**: Max could understand and respond to human language.\n",
       "- **Problem-Solving**: He could solve puzzles and even play chess.\n",
       "- **Empathy**: Max developed a deep understanding of human emotions.\n",
       "\n",
       "### Challenges\n",
       "\n",
       "- **Identity Crisis**: Struggled with his dual nature.\n",
       "- **Social Integration**: Faced difficulties in interacting with both humans and dogs.\n",
       "- **Ethical Dilemmas**: Questioned the morality of his existence.\n",
       "\n",
       "## Adventures and Misadventures\n",
       "\n",
       "### The Heroic Deed\n",
       "\n",
       "- **Rescue Mission**: Max saved a child from a burning building.\n",
       "- **Recognition**: Awarded the town's Medal of Bravery.\n",
       "\n",
       "### The Mischievous Prank\n",
       "\n",
       "- **Culprit**: Max orchestrated a playful prank on the local mailman.\n",
       "- **Outcome**: Became a local legend, known for his clever antics.\n",
       "\n",
       "## Reflections on Humanity\n",
       "\n",
       "### Insights Gained\n",
       "\n",
       "- **Compassion**: Learned the importance of kindness and empathy.\n",
       "- **Complexity**: Understood the intricacies of human relationships.\n",
       "- **Purpose**: Found meaning in helping others and bridging the gap between species.\n",
       "\n",
       "## Conclusion\n",
       "\n",
       "Max's journey was one of discovery, challenges, and growth. With the mind of a human and the heart of a dog, he \n",
       "taught the town valuable lessons about acceptance, understanding, and the true essence of being alive. His story \n",
       "remains a testament to the boundless possibilities of science and the enduring power of love and friendship.\n",
       "\n",
       "---\n",
       "\n",
       "**Max's Legacy**: A statue in the town square commemorates Max's contributions, reminding everyone that sometimes, \n",
       "the most extraordinary beings come in the most unexpected forms.\n",
       "</pre>\n"
      ],
      "text/plain": [
       "# The Tale of Max: The Dog with a Human Brain\n",
       "\n",
       "## Introduction\n",
       "\n",
       "In a small, bustling town, nestled between rolling hills and lush forests, there lived a dog named Max. But Max was\n",
       "no ordinary dog. Due to a mysterious scientific experiment gone awry, Max possessed the **brain of a human**. This \n",
       "is his story.\n",
       "\n",
       "## The Transformation\n",
       "\n",
       "### The Experiment\n",
       "\n",
       "- Conducted by Dr. Evelyn Carter, a renowned neuroscientist.\n",
       "- Aimed to explore the potential of cross-species brain transplants.\n",
       "- Max, a golden retriever, was chosen for his gentle nature and intelligence.\n",
       "\n",
       "### The Unexpected Outcome\n",
       "\n",
       "- The experiment was intended to be temporary.\n",
       "- A freak electrical storm caused a surge in the lab's power grid.\n",
       "- The result: Max's brain permanently fused with human consciousness.\n",
       "\n",
       "## Life as a Human-Dog\n",
       "\n",
       "### Newfound Abilities\n",
       "\n",
       "- **Communication**: Max could understand and respond to human language.\n",
       "- **Problem-Solving**: He could solve puzzles and even play chess.\n",
       "- **Empathy**: Max developed a deep understanding of human emotions.\n",
       "\n",
       "### Challenges\n",
       "\n",
       "- **Identity Crisis**: Struggled with his dual nature.\n",
       "- **Social Integration**: Faced difficulties in interacting with both humans and dogs.\n",
       "- **Ethical Dilemmas**: Questioned the morality of his existence.\n",
       "\n",
       "## Adventures and Misadventures\n",
       "\n",
       "### The Heroic Deed\n",
       "\n",
       "- **Rescue Mission**: Max saved a child from a burning building.\n",
       "- **Recognition**: Awarded the town's Medal of Bravery.\n",
       "\n",
       "### The Mischievous Prank\n",
       "\n",
       "- **Culprit**: Max orchestrated a playful prank on the local mailman.\n",
       "- **Outcome**: Became a local legend, known for his clever antics.\n",
       "\n",
       "## Reflections on Humanity\n",
       "\n",
       "### Insights Gained\n",
       "\n",
       "- **Compassion**: Learned the importance of kindness and empathy.\n",
       "- **Complexity**: Understood the intricacies of human relationships.\n",
       "- **Purpose**: Found meaning in helping others and bridging the gap between species.\n",
       "\n",
       "## Conclusion\n",
       "\n",
       "Max's journey was one of discovery, challenges, and growth. With the mind of a human and the heart of a dog, he \n",
       "taught the town valuable lessons about acceptance, understanding, and the true essence of being alive. His story \n",
       "remains a testament to the boundless possibilities of science and the enduring power of love and friendship.\n",
       "\n",
       "---\n",
       "\n",
       "**Max's Legacy**: A statue in the town square commemorates Max's contributions, reminding everyone that sometimes, \n",
       "the most extraordinary beings come in the most unexpected forms.\n"
      ]
     },
     "metadata": {},
     "output_type": "display_data"
    }
   ],
   "source": [
    "from rich.console import Console\n",
    "\n",
    "console = Console()\n",
    "response = \"\"\n",
    "\n",
    "for chunk in chain.stream({\"topic\": \"a dog with human brain\"}):\n",
    "    response += chunk\n",
    "\n",
    "console.print(response)"
   ]
  },
  {
   "cell_type": "code",
   "execution_count": null,
   "id": "b38f84db",
   "metadata": {},
   "outputs": [],
   "source": []
  },
  {
   "cell_type": "code",
   "execution_count": null,
   "id": "dbd4cf03",
   "metadata": {},
   "outputs": [],
   "source": []
  }
 ],
 "metadata": {
  "kernelspec": {
   "display_name": "Langchain_2025_twh",
   "language": "python",
   "name": "python3"
  },
  "language_info": {
   "codemirror_mode": {
    "name": "ipython",
    "version": 3
   },
   "file_extension": ".py",
   "mimetype": "text/x-python",
   "name": "python",
   "nbconvert_exporter": "python",
   "pygments_lexer": "ipython3",
   "version": "3.12.5"
  }
 },
 "nbformat": 4,
 "nbformat_minor": 5
}
