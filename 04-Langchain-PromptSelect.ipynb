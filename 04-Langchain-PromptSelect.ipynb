{
 "cells": [
  {
   "cell_type": "markdown",
   "id": "4e89d5cd",
   "metadata": {},
   "source": [
    "# Prompt Select"
   ]
  },
  {
   "cell_type": "code",
   "execution_count": 5,
   "id": "c3daa962",
   "metadata": {},
   "outputs": [],
   "source": [
    "from langchain.prompts import FewShotPromptTemplate, PromptTemplate\n",
    "from langchain.prompts.example_selector import LengthBasedExampleSelector\n",
    "\n",
    "# 創建反義詞任務\n",
    "examples = [\n",
    "    {\"input\": \"happy\", \"output\": \"sad\"},\n",
    "    {\"input\": \"hot\", \"output\": \"cold\"},\n",
    "    {\"input\": \"up\", \"output\": \"down\"},\n",
    "    {\"input\": \"big\", \"output\": \"small\"},\n",
    "    {\"input\": \"fast\", \"output\": \"slow\"},\n",
    "]\n",
    "\n",
    "example_prompt = PromptTemplate(\n",
    "    input_variables=[\"input\", \"output\"],\n",
    "    template=\"Input: {input}\\nOutput: {output}\"\n",
    ")\n",
    "\n",
    "examples_selector = LengthBasedExampleSelector(\n",
    "    examples=examples,\n",
    "    example_prompt=example_prompt,\n",
    "    max_length=50,  # 設定最大長度\n",
    ")\n",
    "\n",
    "dynamic_prompt = FewShotPromptTemplate(\n",
    "    example_selector=examples_selector,\n",
    "    example_prompt=example_prompt,\n",
    "    prefix=\"Please provide the antonym for the following word:\\n\",\n",
    "    suffix=\"Input: {adjective}\\nOutput:\",\n",
    "    input_variables=[\"adjective\"],\n",
    "    )\n"
   ]
  },
  {
   "cell_type": "code",
   "execution_count": 6,
   "id": "efea179c",
   "metadata": {},
   "outputs": [
    {
     "name": "stdout",
     "output_type": "stream",
     "text": [
      "Please provide the antonym for the following word:\n",
      "\n",
      "\n",
      "Input: happy\n",
      "Output: sad\n",
      "\n",
      "Input: hot\n",
      "Output: cold\n",
      "\n",
      "Input: up\n",
      "Output: down\n",
      "\n",
      "Input: big\n",
      "Output: small\n",
      "\n",
      "Input: fast\n",
      "Output: slow\n",
      "\n",
      "Input: happy\n",
      "Output:\n"
     ]
    }
   ],
   "source": [
    "print(dynamic_prompt.format(adjective=\"happy\"))"
   ]
  },
  {
   "cell_type": "code",
   "execution_count": 8,
   "id": "793954f2",
   "metadata": {},
   "outputs": [
    {
     "name": "stdout",
     "output_type": "stream",
     "text": [
      "Please provide the antonym for the following word:\n",
      "\n",
      "\n",
      "Input: happy\n",
      "Output: sad\n",
      "\n",
      "Input: hot\n",
      "Output: cold\n",
      "\n",
      "Input: up\n",
      "Output: down\n",
      "\n",
      "Input: big\n",
      "Output: small\n",
      "\n",
      "Input: fast\n",
      "Output: slow\n",
      "\n",
      "Input: This is a long and short, big but small article.\n",
      "Output:\n"
     ]
    }
   ],
   "source": [
    "long_text = \"This is a long and short, big but small article.\"\n",
    "print(dynamic_prompt.format(adjective=long_text))\n",
    "\n"
   ]
  }
 ],
 "metadata": {
  "kernelspec": {
   "display_name": "Langchain_2025_twh",
   "language": "python",
   "name": "python3"
  },
  "language_info": {
   "codemirror_mode": {
    "name": "ipython",
    "version": 3
   },
   "file_extension": ".py",
   "mimetype": "text/x-python",
   "name": "python",
   "nbconvert_exporter": "python",
   "pygments_lexer": "ipython3",
   "version": "3.12.5"
  }
 },
 "nbformat": 4,
 "nbformat_minor": 5
}
